{
 "cells": [
  {
   "cell_type": "code",
   "execution_count": 5,
   "id": "b2ac2a0f",
   "metadata": {},
   "outputs": [
    {
     "name": "stdout",
     "output_type": "stream",
     "text": [
      "Enter the number of elements in the list: 32\n",
      "Enter the element that you want to search: 45\n",
      "[1, 8, 9, 10, 10, 23, 28, 29, 30, 35, 35, 35, 35, 38, 48, 51, 57, 62, 63, 65, 65, 68, 73, 82, 83, 84, 88, 92, 93, 93, 96, 98]\n",
      "The number is not in the list.\n"
     ]
    }
   ],
   "source": [
    "import random  # Importing the random module\n",
    "\n",
    "# Function to generate a list of random numbers\n",
    "def generate_list(n):  \n",
    "    lst = [random.randint(0, 100) for i in range(n)]  # Generate a list of n random numbers between 0 and 100\n",
    "    lst.sort()  # Sort the list in ascending order\n",
    "    for i in range(1, len(lst)):  # Iterate through the list starting from the second element\n",
    "        lst[i] = lst[i] + 2  # Add 2 to each element (starting from index 1)\n",
    "    lst.sort()  # Re-sort the list after modifying the elements\n",
    "    return lst  # Return the modified and re-sorted list\n",
    "\n",
    "# Function to perform binary search on a sorted list\n",
    "def binary_search(lst, x):  \n",
    "    start = 0  # Initialize the start index\n",
    "    end = len(lst) - 1  # Initialize the end index to the last element of the list\n",
    "    while start <= end:  # Run the loop until start is greater than end\n",
    "        mid = (start + end) // 2  # Calculate the middle index\n",
    "        if lst[mid] == x:  # If the middle element is the one we are searching for\n",
    "            return True  # Return True (element found)\n",
    "        elif lst[mid] < x:  # If the middle element is less than the search element\n",
    "            start = mid + 1  # Move the start index to mid + 1\n",
    "        else:  # If the middle element is greater than the search element\n",
    "            end = mid - 1  # Move the end index to mid - 1\n",
    "    return False  # If the loop ends, return False (element not found)\n",
    "\n",
    "# Main part of the program\n",
    "n = int(input(\"Enter the number of elements in the list: \"))  # Take input for the number of elements\n",
    "x = int(input(\"Enter the element that you want to search: \"))  # Take input for the element to search\n",
    "lst = generate_list(n)  # Generate a list with n random numbers\n",
    "print(lst)  # Print the generated list\n",
    "result = binary_search(lst, x)  # Perform binary search on the list\n",
    "\n",
    "# Check if the result of binary search is True or False\n",
    "if result:\n",
    "    print(\"The number is in the list.\")\n",
    "else:\n",
    "    print(\"The number is not in the list.\")\n"
   ]
  },
  {
   "cell_type": "code",
   "execution_count": null,
   "id": "a16b3c4b",
   "metadata": {},
   "outputs": [],
   "source": []
  }
 ],
 "metadata": {
  "kernelspec": {
   "display_name": "Python 3 (ipykernel)",
   "language": "python",
   "name": "python3"
  },
  "language_info": {
   "codemirror_mode": {
    "name": "ipython",
    "version": 3
   },
   "file_extension": ".py",
   "mimetype": "text/x-python",
   "name": "python",
   "nbconvert_exporter": "python",
   "pygments_lexer": "ipython3",
   "version": "3.11.5"
  }
 },
 "nbformat": 4,
 "nbformat_minor": 5
}
